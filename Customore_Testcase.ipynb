{
  "nbformat": 4,
  "nbformat_minor": 0,
  "metadata": {
    "colab": {
      "provenance": [],
      "authorship_tag": "ABX9TyMHIF2CTMXwJTXnXxruexW7",
      "include_colab_link": true
    },
    "kernelspec": {
      "name": "python3",
      "display_name": "Python 3"
    },
    "language_info": {
      "name": "python"
    }
  },
  "cells": [
    {
      "cell_type": "markdown",
      "metadata": {
        "id": "view-in-github",
        "colab_type": "text"
      },
      "source": [
        "<a href=\"https://colab.research.google.com/github/imgnourt/Cost-Prediction-on-Customer-Acquisition/blob/main/Customore_Testcase.ipynb\" target=\"_parent\"><img src=\"https://colab.research.google.com/assets/colab-badge.svg\" alt=\"Open In Colab\"/></a>"
      ]
    },
    {
      "cell_type": "markdown",
      "source": [
        "# **Data Prepare** "
      ],
      "metadata": {
        "id": "k_jIVwNqDcqH"
      }
    },
    {
      "cell_type": "markdown",
      "source": [
        "## **About Data**\n",
        "* Customer_unique_id: the ID to identify an unique customer. Each unique customer will be given one ID only\n",
        "* Order_id: the ID to identify different orders. Each order successfully created will have one unique ID\n",
        "* Item_quantity: number of items in each order\n",
        "* Created_day: the day when the order was generated\n",
        "* Onsite_original_price: the original price from manufacture without any promotion\n",
        "* Selling_price: the price that we show to customer after a certain discount from the original price\n",
        "* shipping_fee: the fee that customer have to pay for shipping service\n",
        "* voucher_platform: the amount of an addition promotion coming from a voucher/ coupon sponsored by the e-commerce platform (Lazada, Shopee, Tiki, etc.)\n",
        "* voucher_seller: the amount of an additional promotion coming from a voucher / coupon sponsored by the brand / seller\n",
        "* payment_method: the payment method chosen by the customer for each order\n",
        "* order_status: the most updated status of each order after being created. \n",
        "COMPLETED = successfully delivered to customer without cancellation. CANCELLED = failed to delivered or cancelled by customer before shipping"
      ],
      "metadata": {
        "id": "BQ-6WIzxDq0J"
      }
    },
    {
      "cell_type": "markdown",
      "source": [
        "## The idea:\n",
        "* Visualization quantity per day, total selling price of each, plattform,\n",
        "* Clustering by K-Mean\n",
        "## Solution\n",
        "* Walmart, Popupar product, boosting low\n",
        "* Media, new platform: data from tiktok\n",
        "## The idea\n",
        "What is the average transaction value ?\n",
        "Most bought customer categories\n",
        "Trend of sales over the day,week,month\n",
        "Number of products boight by each customer\n",
        "Delivery days ..\n",
        "\n"
      ],
      "metadata": {
        "id": "4ShUi2oBM7Nz"
      }
    },
    {
      "cell_type": "code",
      "source": [
        "import numpy as np\n",
        "import pandas as pd\n",
        "import os\n",
        "import seaborn as sns\n",
        "import matplotlib.pyplot as plt\n",
        "import datetime as dt\n",
        "import calendar\n",
        "import math\n",
        "from scipy.stats import skew,kurtosis\n",
        "\n",
        "# from scipy.stats import chi2_contingency\n",
        "# from sklearn.feature_selection import SelectKBest, chi2\n",
        "# from sklearn.preprocessing import LabelEncoder, MinMaxScaler\n",
        "# from sklearn.model_selection import train_test_split\n",
        "# from sklearn.metrics import accuracy_score, confusion_matrix, mean_squared_error, mean_absolute_error\n",
        "%matplotlib inline\n",
        "sns.set_theme(color_codes=True, style='darkgrid', \n",
        "              palette='deep', font='sans-serif')\n",
        "\n",
        "import warnings\n",
        "warnings.filterwarnings('ignore')"
      ],
      "metadata": {
        "id": "2lzb-Qw0sczl"
      },
      "execution_count": 47,
      "outputs": []
    },
    {
      "cell_type": "markdown",
      "source": [
        "## Reading the data"
      ],
      "metadata": {
        "id": "KVYiESNK2ErY"
      }
    },
    {
      "cell_type": "code",
      "source": [
        "#order data\n",
        "o_url = 'https://raw.githubusercontent.com/imgnourt/Customore_Testcase/main/CSV_File/Sample_Customore_Order_raw.csv'\n",
        "df = pd.read_csv(o_url)\n",
        "#traffic data\n",
        "t_url = 'https://raw.githubusercontent.com/imgnourt/Customore_Testcase/main/CSV_File/Sample_Customore_Traffic%20raw.csv'\n",
        "t_df = pd.read_csv(t_url)"
      ],
      "metadata": {
        "id": "gXLXq_Xy2HE1"
      },
      "execution_count": 27,
      "outputs": []
    },
    {
      "cell_type": "code",
      "source": [
        "df.head()"
      ],
      "metadata": {
        "colab": {
          "base_uri": "https://localhost:8080/",
          "height": 270
        },
        "id": "7lZUzsnN4IvI",
        "outputId": "40076c5e-1b2b-4b92-fdbe-73facb42e400"
      },
      "execution_count": 28,
      "outputs": [
        {
          "output_type": "execute_result",
          "data": {
            "text/plain": [
              "   customer_unique_id    order_id  item_quantity created_day  \\\n",
              "0                   1  A000000001              1    7/1/2019   \n",
              "1                   2  A000000002              1    7/1/2019   \n",
              "2                   3  A000000003              1    7/1/2019   \n",
              "3                   4  A000000004              1    7/1/2019   \n",
              "4                   5  A000000005              1    7/1/2019   \n",
              "\n",
              "   onsite_original_price  selling_price  shipping_fee  voucher_platform  \\\n",
              "0                 338000         259000          3000                 0   \n",
              "1                 175000         139000             0                 0   \n",
              "2                 520000         359000         14927                 0   \n",
              "3                 238000         185000         29645                 0   \n",
              "4                 159000         129000         14927                 0   \n",
              "\n",
              "   voucher_seller    payment_method order_status  \n",
              "0               0       Airpay GIRO    CANCELLED  \n",
              "1               0  Cash on Delivery    COMPLETED  \n",
              "2               0       Cybersource    COMPLETED  \n",
              "3               0  Cash on Delivery    COMPLETED  \n",
              "4               0  Cash on Delivery    CANCELLED  "
            ],
            "text/html": [
              "\n",
              "  <div id=\"df-5c85b754-3314-465e-9eb6-1b12b871acf9\">\n",
              "    <div class=\"colab-df-container\">\n",
              "      <div>\n",
              "<style scoped>\n",
              "    .dataframe tbody tr th:only-of-type {\n",
              "        vertical-align: middle;\n",
              "    }\n",
              "\n",
              "    .dataframe tbody tr th {\n",
              "        vertical-align: top;\n",
              "    }\n",
              "\n",
              "    .dataframe thead th {\n",
              "        text-align: right;\n",
              "    }\n",
              "</style>\n",
              "<table border=\"1\" class=\"dataframe\">\n",
              "  <thead>\n",
              "    <tr style=\"text-align: right;\">\n",
              "      <th></th>\n",
              "      <th>customer_unique_id</th>\n",
              "      <th>order_id</th>\n",
              "      <th>item_quantity</th>\n",
              "      <th>created_day</th>\n",
              "      <th>onsite_original_price</th>\n",
              "      <th>selling_price</th>\n",
              "      <th>shipping_fee</th>\n",
              "      <th>voucher_platform</th>\n",
              "      <th>voucher_seller</th>\n",
              "      <th>payment_method</th>\n",
              "      <th>order_status</th>\n",
              "    </tr>\n",
              "  </thead>\n",
              "  <tbody>\n",
              "    <tr>\n",
              "      <th>0</th>\n",
              "      <td>1</td>\n",
              "      <td>A000000001</td>\n",
              "      <td>1</td>\n",
              "      <td>7/1/2019</td>\n",
              "      <td>338000</td>\n",
              "      <td>259000</td>\n",
              "      <td>3000</td>\n",
              "      <td>0</td>\n",
              "      <td>0</td>\n",
              "      <td>Airpay GIRO</td>\n",
              "      <td>CANCELLED</td>\n",
              "    </tr>\n",
              "    <tr>\n",
              "      <th>1</th>\n",
              "      <td>2</td>\n",
              "      <td>A000000002</td>\n",
              "      <td>1</td>\n",
              "      <td>7/1/2019</td>\n",
              "      <td>175000</td>\n",
              "      <td>139000</td>\n",
              "      <td>0</td>\n",
              "      <td>0</td>\n",
              "      <td>0</td>\n",
              "      <td>Cash on Delivery</td>\n",
              "      <td>COMPLETED</td>\n",
              "    </tr>\n",
              "    <tr>\n",
              "      <th>2</th>\n",
              "      <td>3</td>\n",
              "      <td>A000000003</td>\n",
              "      <td>1</td>\n",
              "      <td>7/1/2019</td>\n",
              "      <td>520000</td>\n",
              "      <td>359000</td>\n",
              "      <td>14927</td>\n",
              "      <td>0</td>\n",
              "      <td>0</td>\n",
              "      <td>Cybersource</td>\n",
              "      <td>COMPLETED</td>\n",
              "    </tr>\n",
              "    <tr>\n",
              "      <th>3</th>\n",
              "      <td>4</td>\n",
              "      <td>A000000004</td>\n",
              "      <td>1</td>\n",
              "      <td>7/1/2019</td>\n",
              "      <td>238000</td>\n",
              "      <td>185000</td>\n",
              "      <td>29645</td>\n",
              "      <td>0</td>\n",
              "      <td>0</td>\n",
              "      <td>Cash on Delivery</td>\n",
              "      <td>COMPLETED</td>\n",
              "    </tr>\n",
              "    <tr>\n",
              "      <th>4</th>\n",
              "      <td>5</td>\n",
              "      <td>A000000005</td>\n",
              "      <td>1</td>\n",
              "      <td>7/1/2019</td>\n",
              "      <td>159000</td>\n",
              "      <td>129000</td>\n",
              "      <td>14927</td>\n",
              "      <td>0</td>\n",
              "      <td>0</td>\n",
              "      <td>Cash on Delivery</td>\n",
              "      <td>CANCELLED</td>\n",
              "    </tr>\n",
              "  </tbody>\n",
              "</table>\n",
              "</div>\n",
              "      <button class=\"colab-df-convert\" onclick=\"convertToInteractive('df-5c85b754-3314-465e-9eb6-1b12b871acf9')\"\n",
              "              title=\"Convert this dataframe to an interactive table.\"\n",
              "              style=\"display:none;\">\n",
              "        \n",
              "  <svg xmlns=\"http://www.w3.org/2000/svg\" height=\"24px\"viewBox=\"0 0 24 24\"\n",
              "       width=\"24px\">\n",
              "    <path d=\"M0 0h24v24H0V0z\" fill=\"none\"/>\n",
              "    <path d=\"M18.56 5.44l.94 2.06.94-2.06 2.06-.94-2.06-.94-.94-2.06-.94 2.06-2.06.94zm-11 1L8.5 8.5l.94-2.06 2.06-.94-2.06-.94L8.5 2.5l-.94 2.06-2.06.94zm10 10l.94 2.06.94-2.06 2.06-.94-2.06-.94-.94-2.06-.94 2.06-2.06.94z\"/><path d=\"M17.41 7.96l-1.37-1.37c-.4-.4-.92-.59-1.43-.59-.52 0-1.04.2-1.43.59L10.3 9.45l-7.72 7.72c-.78.78-.78 2.05 0 2.83L4 21.41c.39.39.9.59 1.41.59.51 0 1.02-.2 1.41-.59l7.78-7.78 2.81-2.81c.8-.78.8-2.07 0-2.86zM5.41 20L4 18.59l7.72-7.72 1.47 1.35L5.41 20z\"/>\n",
              "  </svg>\n",
              "      </button>\n",
              "      \n",
              "  <style>\n",
              "    .colab-df-container {\n",
              "      display:flex;\n",
              "      flex-wrap:wrap;\n",
              "      gap: 12px;\n",
              "    }\n",
              "\n",
              "    .colab-df-convert {\n",
              "      background-color: #E8F0FE;\n",
              "      border: none;\n",
              "      border-radius: 50%;\n",
              "      cursor: pointer;\n",
              "      display: none;\n",
              "      fill: #1967D2;\n",
              "      height: 32px;\n",
              "      padding: 0 0 0 0;\n",
              "      width: 32px;\n",
              "    }\n",
              "\n",
              "    .colab-df-convert:hover {\n",
              "      background-color: #E2EBFA;\n",
              "      box-shadow: 0px 1px 2px rgba(60, 64, 67, 0.3), 0px 1px 3px 1px rgba(60, 64, 67, 0.15);\n",
              "      fill: #174EA6;\n",
              "    }\n",
              "\n",
              "    [theme=dark] .colab-df-convert {\n",
              "      background-color: #3B4455;\n",
              "      fill: #D2E3FC;\n",
              "    }\n",
              "\n",
              "    [theme=dark] .colab-df-convert:hover {\n",
              "      background-color: #434B5C;\n",
              "      box-shadow: 0px 1px 3px 1px rgba(0, 0, 0, 0.15);\n",
              "      filter: drop-shadow(0px 1px 2px rgba(0, 0, 0, 0.3));\n",
              "      fill: #FFFFFF;\n",
              "    }\n",
              "  </style>\n",
              "\n",
              "      <script>\n",
              "        const buttonEl =\n",
              "          document.querySelector('#df-5c85b754-3314-465e-9eb6-1b12b871acf9 button.colab-df-convert');\n",
              "        buttonEl.style.display =\n",
              "          google.colab.kernel.accessAllowed ? 'block' : 'none';\n",
              "\n",
              "        async function convertToInteractive(key) {\n",
              "          const element = document.querySelector('#df-5c85b754-3314-465e-9eb6-1b12b871acf9');\n",
              "          const dataTable =\n",
              "            await google.colab.kernel.invokeFunction('convertToInteractive',\n",
              "                                                     [key], {});\n",
              "          if (!dataTable) return;\n",
              "\n",
              "          const docLinkHtml = 'Like what you see? Visit the ' +\n",
              "            '<a target=\"_blank\" href=https://colab.research.google.com/notebooks/data_table.ipynb>data table notebook</a>'\n",
              "            + ' to learn more about interactive tables.';\n",
              "          element.innerHTML = '';\n",
              "          dataTable['output_type'] = 'display_data';\n",
              "          await google.colab.output.renderOutput(dataTable, element);\n",
              "          const docLink = document.createElement('div');\n",
              "          docLink.innerHTML = docLinkHtml;\n",
              "          element.appendChild(docLink);\n",
              "        }\n",
              "      </script>\n",
              "    </div>\n",
              "  </div>\n",
              "  "
            ]
          },
          "metadata": {},
          "execution_count": 28
        }
      ]
    },
    {
      "cell_type": "code",
      "source": [
        "t_df.head()"
      ],
      "metadata": {
        "colab": {
          "base_uri": "https://localhost:8080/",
          "height": 206
        },
        "id": "nybeVfywDqD4",
        "outputId": "a5a8768d-2dba-4c06-b237-4be9adf36755"
      },
      "execution_count": 29,
      "outputs": [
        {
          "output_type": "execute_result",
          "data": {
            "text/plain": [
              "          Source / Medium   Users  New Users  Sessions Bounce Rate  \\\n",
              "0            google / cpc  407950     344502    723208      62.19%   \n",
              "1        youtube / social   77785      55537    163447      78.81%   \n",
              "2       (direct) / (none)   64653      60181    108534      55.33%   \n",
              "3       facebook / social   48721      32781    176662      84.40%   \n",
              "4  youtube.com / referral   27718      17774     42464      63.92%   \n",
              "\n",
              "   Pages / Session  Avg. Session Duration Ecommerce Conversion Rate  \\\n",
              "0             3.56                 176.03                     0.91%   \n",
              "1             2.24                  89.94                     0.59%   \n",
              "2             4.12                 200.43                     0.97%   \n",
              "3             1.86                  73.21                     0.28%   \n",
              "4             2.98                 148.44                     1.20%   \n",
              "\n",
              "   Transactions       Revenue  \n",
              "0          6566  6.656088e+09  \n",
              "1           957  8.429079e+08  \n",
              "2          1048  1.040851e+09  \n",
              "3           500  5.344857e+08  \n",
              "4           508  4.025419e+08  "
            ],
            "text/html": [
              "\n",
              "  <div id=\"df-69a417f9-bbda-4288-a598-feb1e5e27b7e\">\n",
              "    <div class=\"colab-df-container\">\n",
              "      <div>\n",
              "<style scoped>\n",
              "    .dataframe tbody tr th:only-of-type {\n",
              "        vertical-align: middle;\n",
              "    }\n",
              "\n",
              "    .dataframe tbody tr th {\n",
              "        vertical-align: top;\n",
              "    }\n",
              "\n",
              "    .dataframe thead th {\n",
              "        text-align: right;\n",
              "    }\n",
              "</style>\n",
              "<table border=\"1\" class=\"dataframe\">\n",
              "  <thead>\n",
              "    <tr style=\"text-align: right;\">\n",
              "      <th></th>\n",
              "      <th>Source / Medium</th>\n",
              "      <th>Users</th>\n",
              "      <th>New Users</th>\n",
              "      <th>Sessions</th>\n",
              "      <th>Bounce Rate</th>\n",
              "      <th>Pages / Session</th>\n",
              "      <th>Avg. Session Duration</th>\n",
              "      <th>Ecommerce Conversion Rate</th>\n",
              "      <th>Transactions</th>\n",
              "      <th>Revenue</th>\n",
              "    </tr>\n",
              "  </thead>\n",
              "  <tbody>\n",
              "    <tr>\n",
              "      <th>0</th>\n",
              "      <td>google / cpc</td>\n",
              "      <td>407950</td>\n",
              "      <td>344502</td>\n",
              "      <td>723208</td>\n",
              "      <td>62.19%</td>\n",
              "      <td>3.56</td>\n",
              "      <td>176.03</td>\n",
              "      <td>0.91%</td>\n",
              "      <td>6566</td>\n",
              "      <td>6.656088e+09</td>\n",
              "    </tr>\n",
              "    <tr>\n",
              "      <th>1</th>\n",
              "      <td>youtube / social</td>\n",
              "      <td>77785</td>\n",
              "      <td>55537</td>\n",
              "      <td>163447</td>\n",
              "      <td>78.81%</td>\n",
              "      <td>2.24</td>\n",
              "      <td>89.94</td>\n",
              "      <td>0.59%</td>\n",
              "      <td>957</td>\n",
              "      <td>8.429079e+08</td>\n",
              "    </tr>\n",
              "    <tr>\n",
              "      <th>2</th>\n",
              "      <td>(direct) / (none)</td>\n",
              "      <td>64653</td>\n",
              "      <td>60181</td>\n",
              "      <td>108534</td>\n",
              "      <td>55.33%</td>\n",
              "      <td>4.12</td>\n",
              "      <td>200.43</td>\n",
              "      <td>0.97%</td>\n",
              "      <td>1048</td>\n",
              "      <td>1.040851e+09</td>\n",
              "    </tr>\n",
              "    <tr>\n",
              "      <th>3</th>\n",
              "      <td>facebook / social</td>\n",
              "      <td>48721</td>\n",
              "      <td>32781</td>\n",
              "      <td>176662</td>\n",
              "      <td>84.40%</td>\n",
              "      <td>1.86</td>\n",
              "      <td>73.21</td>\n",
              "      <td>0.28%</td>\n",
              "      <td>500</td>\n",
              "      <td>5.344857e+08</td>\n",
              "    </tr>\n",
              "    <tr>\n",
              "      <th>4</th>\n",
              "      <td>youtube.com / referral</td>\n",
              "      <td>27718</td>\n",
              "      <td>17774</td>\n",
              "      <td>42464</td>\n",
              "      <td>63.92%</td>\n",
              "      <td>2.98</td>\n",
              "      <td>148.44</td>\n",
              "      <td>1.20%</td>\n",
              "      <td>508</td>\n",
              "      <td>4.025419e+08</td>\n",
              "    </tr>\n",
              "  </tbody>\n",
              "</table>\n",
              "</div>\n",
              "      <button class=\"colab-df-convert\" onclick=\"convertToInteractive('df-69a417f9-bbda-4288-a598-feb1e5e27b7e')\"\n",
              "              title=\"Convert this dataframe to an interactive table.\"\n",
              "              style=\"display:none;\">\n",
              "        \n",
              "  <svg xmlns=\"http://www.w3.org/2000/svg\" height=\"24px\"viewBox=\"0 0 24 24\"\n",
              "       width=\"24px\">\n",
              "    <path d=\"M0 0h24v24H0V0z\" fill=\"none\"/>\n",
              "    <path d=\"M18.56 5.44l.94 2.06.94-2.06 2.06-.94-2.06-.94-.94-2.06-.94 2.06-2.06.94zm-11 1L8.5 8.5l.94-2.06 2.06-.94-2.06-.94L8.5 2.5l-.94 2.06-2.06.94zm10 10l.94 2.06.94-2.06 2.06-.94-2.06-.94-.94-2.06-.94 2.06-2.06.94z\"/><path d=\"M17.41 7.96l-1.37-1.37c-.4-.4-.92-.59-1.43-.59-.52 0-1.04.2-1.43.59L10.3 9.45l-7.72 7.72c-.78.78-.78 2.05 0 2.83L4 21.41c.39.39.9.59 1.41.59.51 0 1.02-.2 1.41-.59l7.78-7.78 2.81-2.81c.8-.78.8-2.07 0-2.86zM5.41 20L4 18.59l7.72-7.72 1.47 1.35L5.41 20z\"/>\n",
              "  </svg>\n",
              "      </button>\n",
              "      \n",
              "  <style>\n",
              "    .colab-df-container {\n",
              "      display:flex;\n",
              "      flex-wrap:wrap;\n",
              "      gap: 12px;\n",
              "    }\n",
              "\n",
              "    .colab-df-convert {\n",
              "      background-color: #E8F0FE;\n",
              "      border: none;\n",
              "      border-radius: 50%;\n",
              "      cursor: pointer;\n",
              "      display: none;\n",
              "      fill: #1967D2;\n",
              "      height: 32px;\n",
              "      padding: 0 0 0 0;\n",
              "      width: 32px;\n",
              "    }\n",
              "\n",
              "    .colab-df-convert:hover {\n",
              "      background-color: #E2EBFA;\n",
              "      box-shadow: 0px 1px 2px rgba(60, 64, 67, 0.3), 0px 1px 3px 1px rgba(60, 64, 67, 0.15);\n",
              "      fill: #174EA6;\n",
              "    }\n",
              "\n",
              "    [theme=dark] .colab-df-convert {\n",
              "      background-color: #3B4455;\n",
              "      fill: #D2E3FC;\n",
              "    }\n",
              "\n",
              "    [theme=dark] .colab-df-convert:hover {\n",
              "      background-color: #434B5C;\n",
              "      box-shadow: 0px 1px 3px 1px rgba(0, 0, 0, 0.15);\n",
              "      filter: drop-shadow(0px 1px 2px rgba(0, 0, 0, 0.3));\n",
              "      fill: #FFFFFF;\n",
              "    }\n",
              "  </style>\n",
              "\n",
              "      <script>\n",
              "        const buttonEl =\n",
              "          document.querySelector('#df-69a417f9-bbda-4288-a598-feb1e5e27b7e button.colab-df-convert');\n",
              "        buttonEl.style.display =\n",
              "          google.colab.kernel.accessAllowed ? 'block' : 'none';\n",
              "\n",
              "        async function convertToInteractive(key) {\n",
              "          const element = document.querySelector('#df-69a417f9-bbda-4288-a598-feb1e5e27b7e');\n",
              "          const dataTable =\n",
              "            await google.colab.kernel.invokeFunction('convertToInteractive',\n",
              "                                                     [key], {});\n",
              "          if (!dataTable) return;\n",
              "\n",
              "          const docLinkHtml = 'Like what you see? Visit the ' +\n",
              "            '<a target=\"_blank\" href=https://colab.research.google.com/notebooks/data_table.ipynb>data table notebook</a>'\n",
              "            + ' to learn more about interactive tables.';\n",
              "          element.innerHTML = '';\n",
              "          dataTable['output_type'] = 'display_data';\n",
              "          await google.colab.output.renderOutput(dataTable, element);\n",
              "          const docLink = document.createElement('div');\n",
              "          docLink.innerHTML = docLinkHtml;\n",
              "          element.appendChild(docLink);\n",
              "        }\n",
              "      </script>\n",
              "    </div>\n",
              "  </div>\n",
              "  "
            ]
          },
          "metadata": {},
          "execution_count": 29
        }
      ]
    },
    {
      "cell_type": "markdown",
      "source": [
        "# Exploratory Data Analysis"
      ],
      "metadata": {
        "id": "R2hrA2HqAJbe"
      }
    },
    {
      "cell_type": "code",
      "source": [
        "df.shape"
      ],
      "metadata": {
        "colab": {
          "base_uri": "https://localhost:8080/"
        },
        "id": "nRiWSnqxAGve",
        "outputId": "08186d92-335b-4bd1-ec3e-3607fa6acaa9"
      },
      "execution_count": 18,
      "outputs": [
        {
          "output_type": "execute_result",
          "data": {
            "text/plain": [
              "(61728, 11)"
            ]
          },
          "metadata": {},
          "execution_count": 18
        }
      ]
    },
    {
      "cell_type": "code",
      "source": [
        "df.describe()"
      ],
      "metadata": {
        "colab": {
          "base_uri": "https://localhost:8080/",
          "height": 300
        },
        "id": "rZ9Hx8omASGo",
        "outputId": "32d19bfd-55fb-4a8a-b404-b829beb1317e"
      },
      "execution_count": 20,
      "outputs": [
        {
          "output_type": "execute_result",
          "data": {
            "text/plain": [
              "       customer_unique_id  item_quantity  onsite_original_price  \\\n",
              "count        61728.000000   61728.000000           6.172800e+04   \n",
              "mean         14323.092260       1.111748           2.347072e+05   \n",
              "std           8050.804821       1.487318           1.574884e+05   \n",
              "min              1.000000       1.000000           1.000000e+03   \n",
              "25%           7954.000000       1.000000           1.500000e+05   \n",
              "50%          13852.500000       1.000000           1.950000e+05   \n",
              "75%          20361.250000       1.000000           2.580000e+05   \n",
              "max          30513.000000     198.000000           1.750000e+06   \n",
              "\n",
              "       selling_price   shipping_fee  voucher_platform  voucher_seller  \n",
              "count   6.172800e+04   61728.000000           61728.0         61728.0  \n",
              "mean    1.514818e+05   11191.105689               0.0             0.0  \n",
              "std     1.178384e+05   16157.498442               0.0             0.0  \n",
              "min     0.000000e+00       0.000000               0.0             0.0  \n",
              "25%     8.900000e+04       0.000000               0.0             0.0  \n",
              "50%     1.250000e+05    3000.000000               0.0             0.0  \n",
              "75%     1.790000e+05   16000.000000               0.0             0.0  \n",
              "max     1.579000e+06  384500.000000               0.0             0.0  "
            ],
            "text/html": [
              "\n",
              "  <div id=\"df-17f35d12-c5b2-423e-aee9-3316ce3acade\">\n",
              "    <div class=\"colab-df-container\">\n",
              "      <div>\n",
              "<style scoped>\n",
              "    .dataframe tbody tr th:only-of-type {\n",
              "        vertical-align: middle;\n",
              "    }\n",
              "\n",
              "    .dataframe tbody tr th {\n",
              "        vertical-align: top;\n",
              "    }\n",
              "\n",
              "    .dataframe thead th {\n",
              "        text-align: right;\n",
              "    }\n",
              "</style>\n",
              "<table border=\"1\" class=\"dataframe\">\n",
              "  <thead>\n",
              "    <tr style=\"text-align: right;\">\n",
              "      <th></th>\n",
              "      <th>customer_unique_id</th>\n",
              "      <th>item_quantity</th>\n",
              "      <th>onsite_original_price</th>\n",
              "      <th>selling_price</th>\n",
              "      <th>shipping_fee</th>\n",
              "      <th>voucher_platform</th>\n",
              "      <th>voucher_seller</th>\n",
              "    </tr>\n",
              "  </thead>\n",
              "  <tbody>\n",
              "    <tr>\n",
              "      <th>count</th>\n",
              "      <td>61728.000000</td>\n",
              "      <td>61728.000000</td>\n",
              "      <td>6.172800e+04</td>\n",
              "      <td>6.172800e+04</td>\n",
              "      <td>61728.000000</td>\n",
              "      <td>61728.0</td>\n",
              "      <td>61728.0</td>\n",
              "    </tr>\n",
              "    <tr>\n",
              "      <th>mean</th>\n",
              "      <td>14323.092260</td>\n",
              "      <td>1.111748</td>\n",
              "      <td>2.347072e+05</td>\n",
              "      <td>1.514818e+05</td>\n",
              "      <td>11191.105689</td>\n",
              "      <td>0.0</td>\n",
              "      <td>0.0</td>\n",
              "    </tr>\n",
              "    <tr>\n",
              "      <th>std</th>\n",
              "      <td>8050.804821</td>\n",
              "      <td>1.487318</td>\n",
              "      <td>1.574884e+05</td>\n",
              "      <td>1.178384e+05</td>\n",
              "      <td>16157.498442</td>\n",
              "      <td>0.0</td>\n",
              "      <td>0.0</td>\n",
              "    </tr>\n",
              "    <tr>\n",
              "      <th>min</th>\n",
              "      <td>1.000000</td>\n",
              "      <td>1.000000</td>\n",
              "      <td>1.000000e+03</td>\n",
              "      <td>0.000000e+00</td>\n",
              "      <td>0.000000</td>\n",
              "      <td>0.0</td>\n",
              "      <td>0.0</td>\n",
              "    </tr>\n",
              "    <tr>\n",
              "      <th>25%</th>\n",
              "      <td>7954.000000</td>\n",
              "      <td>1.000000</td>\n",
              "      <td>1.500000e+05</td>\n",
              "      <td>8.900000e+04</td>\n",
              "      <td>0.000000</td>\n",
              "      <td>0.0</td>\n",
              "      <td>0.0</td>\n",
              "    </tr>\n",
              "    <tr>\n",
              "      <th>50%</th>\n",
              "      <td>13852.500000</td>\n",
              "      <td>1.000000</td>\n",
              "      <td>1.950000e+05</td>\n",
              "      <td>1.250000e+05</td>\n",
              "      <td>3000.000000</td>\n",
              "      <td>0.0</td>\n",
              "      <td>0.0</td>\n",
              "    </tr>\n",
              "    <tr>\n",
              "      <th>75%</th>\n",
              "      <td>20361.250000</td>\n",
              "      <td>1.000000</td>\n",
              "      <td>2.580000e+05</td>\n",
              "      <td>1.790000e+05</td>\n",
              "      <td>16000.000000</td>\n",
              "      <td>0.0</td>\n",
              "      <td>0.0</td>\n",
              "    </tr>\n",
              "    <tr>\n",
              "      <th>max</th>\n",
              "      <td>30513.000000</td>\n",
              "      <td>198.000000</td>\n",
              "      <td>1.750000e+06</td>\n",
              "      <td>1.579000e+06</td>\n",
              "      <td>384500.000000</td>\n",
              "      <td>0.0</td>\n",
              "      <td>0.0</td>\n",
              "    </tr>\n",
              "  </tbody>\n",
              "</table>\n",
              "</div>\n",
              "      <button class=\"colab-df-convert\" onclick=\"convertToInteractive('df-17f35d12-c5b2-423e-aee9-3316ce3acade')\"\n",
              "              title=\"Convert this dataframe to an interactive table.\"\n",
              "              style=\"display:none;\">\n",
              "        \n",
              "  <svg xmlns=\"http://www.w3.org/2000/svg\" height=\"24px\"viewBox=\"0 0 24 24\"\n",
              "       width=\"24px\">\n",
              "    <path d=\"M0 0h24v24H0V0z\" fill=\"none\"/>\n",
              "    <path d=\"M18.56 5.44l.94 2.06.94-2.06 2.06-.94-2.06-.94-.94-2.06-.94 2.06-2.06.94zm-11 1L8.5 8.5l.94-2.06 2.06-.94-2.06-.94L8.5 2.5l-.94 2.06-2.06.94zm10 10l.94 2.06.94-2.06 2.06-.94-2.06-.94-.94-2.06-.94 2.06-2.06.94z\"/><path d=\"M17.41 7.96l-1.37-1.37c-.4-.4-.92-.59-1.43-.59-.52 0-1.04.2-1.43.59L10.3 9.45l-7.72 7.72c-.78.78-.78 2.05 0 2.83L4 21.41c.39.39.9.59 1.41.59.51 0 1.02-.2 1.41-.59l7.78-7.78 2.81-2.81c.8-.78.8-2.07 0-2.86zM5.41 20L4 18.59l7.72-7.72 1.47 1.35L5.41 20z\"/>\n",
              "  </svg>\n",
              "      </button>\n",
              "      \n",
              "  <style>\n",
              "    .colab-df-container {\n",
              "      display:flex;\n",
              "      flex-wrap:wrap;\n",
              "      gap: 12px;\n",
              "    }\n",
              "\n",
              "    .colab-df-convert {\n",
              "      background-color: #E8F0FE;\n",
              "      border: none;\n",
              "      border-radius: 50%;\n",
              "      cursor: pointer;\n",
              "      display: none;\n",
              "      fill: #1967D2;\n",
              "      height: 32px;\n",
              "      padding: 0 0 0 0;\n",
              "      width: 32px;\n",
              "    }\n",
              "\n",
              "    .colab-df-convert:hover {\n",
              "      background-color: #E2EBFA;\n",
              "      box-shadow: 0px 1px 2px rgba(60, 64, 67, 0.3), 0px 1px 3px 1px rgba(60, 64, 67, 0.15);\n",
              "      fill: #174EA6;\n",
              "    }\n",
              "\n",
              "    [theme=dark] .colab-df-convert {\n",
              "      background-color: #3B4455;\n",
              "      fill: #D2E3FC;\n",
              "    }\n",
              "\n",
              "    [theme=dark] .colab-df-convert:hover {\n",
              "      background-color: #434B5C;\n",
              "      box-shadow: 0px 1px 3px 1px rgba(0, 0, 0, 0.15);\n",
              "      filter: drop-shadow(0px 1px 2px rgba(0, 0, 0, 0.3));\n",
              "      fill: #FFFFFF;\n",
              "    }\n",
              "  </style>\n",
              "\n",
              "      <script>\n",
              "        const buttonEl =\n",
              "          document.querySelector('#df-17f35d12-c5b2-423e-aee9-3316ce3acade button.colab-df-convert');\n",
              "        buttonEl.style.display =\n",
              "          google.colab.kernel.accessAllowed ? 'block' : 'none';\n",
              "\n",
              "        async function convertToInteractive(key) {\n",
              "          const element = document.querySelector('#df-17f35d12-c5b2-423e-aee9-3316ce3acade');\n",
              "          const dataTable =\n",
              "            await google.colab.kernel.invokeFunction('convertToInteractive',\n",
              "                                                     [key], {});\n",
              "          if (!dataTable) return;\n",
              "\n",
              "          const docLinkHtml = 'Like what you see? Visit the ' +\n",
              "            '<a target=\"_blank\" href=https://colab.research.google.com/notebooks/data_table.ipynb>data table notebook</a>'\n",
              "            + ' to learn more about interactive tables.';\n",
              "          element.innerHTML = '';\n",
              "          dataTable['output_type'] = 'display_data';\n",
              "          await google.colab.output.renderOutput(dataTable, element);\n",
              "          const docLink = document.createElement('div');\n",
              "          docLink.innerHTML = docLinkHtml;\n",
              "          element.appendChild(docLink);\n",
              "        }\n",
              "      </script>\n",
              "    </div>\n",
              "  </div>\n",
              "  "
            ]
          },
          "metadata": {},
          "execution_count": 20
        }
      ]
    },
    {
      "cell_type": "code",
      "source": [
        "df.info()"
      ],
      "metadata": {
        "colab": {
          "base_uri": "https://localhost:8080/"
        },
        "id": "Suyj8CwLAWYA",
        "outputId": "82cd56f6-9172-451c-d9d2-89edf3439dfb"
      },
      "execution_count": 21,
      "outputs": [
        {
          "output_type": "stream",
          "name": "stdout",
          "text": [
            "<class 'pandas.core.frame.DataFrame'>\n",
            "RangeIndex: 61728 entries, 0 to 61727\n",
            "Data columns (total 11 columns):\n",
            " #   Column                 Non-Null Count  Dtype \n",
            "---  ------                 --------------  ----- \n",
            " 0   customer_unique_id     61728 non-null  int64 \n",
            " 1   order_id               61728 non-null  object\n",
            " 2   item_quantity          61728 non-null  int64 \n",
            " 3   created_day            61728 non-null  object\n",
            " 4   onsite_original_price  61728 non-null  int64 \n",
            " 5   selling_price          61728 non-null  int64 \n",
            " 6   shipping_fee           61728 non-null  int64 \n",
            " 7   voucher_platform       61728 non-null  int64 \n",
            " 8   voucher_seller         61728 non-null  int64 \n",
            " 9   payment_method         61728 non-null  object\n",
            " 10  order_status           61728 non-null  object\n",
            "dtypes: int64(7), object(4)\n",
            "memory usage: 5.2+ MB\n"
          ]
        }
      ]
    },
    {
      "cell_type": "code",
      "source": [
        "#checking null values\n",
        "df.isnull().sum()"
      ],
      "metadata": {
        "colab": {
          "base_uri": "https://localhost:8080/"
        },
        "id": "U_QUXCaSAh44",
        "outputId": "1d075466-72fe-458a-db50-d15cf118c6e3"
      },
      "execution_count": 34,
      "outputs": [
        {
          "output_type": "execute_result",
          "data": {
            "text/plain": [
              "customer_unique_id       0\n",
              "order_id                 0\n",
              "item_quantity            0\n",
              "created_day              0\n",
              "onsite_original_price    0\n",
              "selling_price            0\n",
              "shipping_fee             0\n",
              "voucher_platform         0\n",
              "voucher_seller           0\n",
              "payment_method           0\n",
              "order_status             0\n",
              "dtype: int64"
            ]
          },
          "metadata": {},
          "execution_count": 34
        }
      ]
    },
    {
      "cell_type": "code",
      "source": [
        "# checking duplicated values\n",
        "print(\"The number os duplicate values is \"+str(df.duplicated().sum()))"
      ],
      "metadata": {
        "colab": {
          "base_uri": "https://localhost:8080/"
        },
        "id": "NMRkb1e4AoZN",
        "outputId": "9b1c0e5b-48f2-48c7-80c4-4d1579998f38"
      },
      "execution_count": 41,
      "outputs": [
        {
          "output_type": "stream",
          "name": "stdout",
          "text": [
            "The number os duplicate values is 1897\n"
          ]
        }
      ]
    },
    {
      "cell_type": "code",
      "source": [
        "#drop null and duplicated values\n",
        "df.dropna(inplace=True)\n",
        "df.drop_duplicates(inplace=True)"
      ],
      "metadata": {
        "id": "hFPq5u3FE9Qf"
      },
      "execution_count": 42,
      "outputs": []
    },
    {
      "cell_type": "code",
      "source": [
        "df.shape"
      ],
      "metadata": {
        "colab": {
          "base_uri": "https://localhost:8080/"
        },
        "id": "qRknAYcIGFGe",
        "outputId": "6576e49f-f5a3-43d8-a652-881b0ca8b1ce"
      },
      "execution_count": 44,
      "outputs": [
        {
          "output_type": "execute_result",
          "data": {
            "text/plain": [
              "(59831, 11)"
            ]
          },
          "metadata": {},
          "execution_count": 44
        }
      ]
    },
    {
      "cell_type": "code",
      "source": [
        "#Check the payment method\n",
        "method=df.groupby('payment_method')['order_id'].nunique().sort_values(ascending=False)\n",
        "method"
      ],
      "metadata": {
        "colab": {
          "base_uri": "https://localhost:8080/"
        },
        "id": "18h2mYhwHYi7",
        "outputId": "1bee5f51-633a-4cac-b1bf-483e50256dfa"
      },
      "execution_count": 51,
      "outputs": [
        {
          "output_type": "execute_result",
          "data": {
            "text/plain": [
              "payment_method\n",
              "Cash on Delivery                    33075\n",
              "Airpay GIRO                          1789\n",
              "Cybersource                           978\n",
              "Airpay Wallet V2                      893\n",
              "VN Airpay Ibanking (Vietcombank)      196\n",
              "Cybersource (new)                     177\n",
              "Shopee Wallet                         175\n",
              "VN Airpay Ibanking (Techcombank)      101\n",
              "VN Airpay Ibanking (BIDV)              84\n",
              "VN Airpay Ibanking (VPbank)            72\n",
              "VN Airpay Ibanking (Vietinbank)        64\n",
              "VN Airpay Ibanking (Agribank)          62\n",
              "VN Airpay Ibanking (ACB)               41\n",
              "VN Airpay Ibanking (Sacombank)         24\n",
              "VN Airpay Ibanking (TPbank)            20\n",
              "VN Airpay Ibanking (DongAbank)         16\n",
              "VN Airpay Ibanking (MSbank)            11\n",
              "VN Airpay Ibanking (MB)                11\n",
              "VN Airpay Ibanking (NCB)                7\n",
              "VN Airpay Ibanking (Oceanbank)          6\n",
              "VN Airpay Ibanking (SHB)                5\n",
              "VN Airpay Ibanking (Eximbank)           5\n",
              "VN Airpay Ibanking (HDbank)             5\n",
              "VN Airpay Ibanking (OCB)                4\n",
              "VN Airpay Ibanking (VIB)                4\n",
              "VN Airpay Ibanking (SEAB)               3\n",
              "VN Airpay Ibanking (Indovina)           2\n",
              "VN Airpay Ibanking (SGB)                1\n",
              "VN Airpay Ibanking (PBVN)               1\n",
              "VN Airpay Ibanking (LPB)                1\n",
              "VN Airpay Ibanking (ABB)                1\n",
              "VN Airpay Ibanking (SCB)                1\n",
              "Name: order_id, dtype: int64"
            ]
          },
          "metadata": {},
          "execution_count": 51
        }
      ]
    },
    {
      "cell_type": "markdown",
      "source": [
        "Most of order is COD"
      ],
      "metadata": {
        "id": "h90O4FFVH1vz"
      }
    },
    {
      "cell_type": "code",
      "source": [
        "df['order_status'].value_counts()"
      ],
      "metadata": {
        "colab": {
          "base_uri": "https://localhost:8080/"
        },
        "id": "Xt4clZXCJKEN",
        "outputId": "12071098-8e01-44b4-9aaa-738140682217"
      },
      "execution_count": 59,
      "outputs": [
        {
          "output_type": "execute_result",
          "data": {
            "text/plain": [
              "COMPLETED    48134\n",
              "CANCELLED    11697\n",
              "Name: order_status, dtype: int64"
            ]
          },
          "metadata": {},
          "execution_count": 59
        }
      ]
    },
    {
      "cell_type": "code",
      "source": [
        "#Order status\n",
        "r = df.groupby('order_status')['order_status'].count()\n",
        "plt.pie(r, explode=[0.05, 0.05], labels=['CANCELLED', 'COMPLETED'], \n",
        "        radius=2.0, autopct='%1.1f%%')"
      ],
      "metadata": {
        "colab": {
          "base_uri": "https://localhost:8080/",
          "height": 483
        },
        "id": "LQ7CCHTpI8np",
        "outputId": "8efe62f5-01be-44b1-a90c-21cee1a1653f"
      },
      "execution_count": 66,
      "outputs": [
        {
          "output_type": "execute_result",
          "data": {
            "text/plain": [
              "([<matplotlib.patches.Wedge at 0x7f6d3d400cd0>,\n",
              "  <matplotlib.patches.Wedge at 0x7f6d3d410430>],\n",
              " [Text(1.8387996815167567, 1.296655594695012, 'CANCELLED'),\n",
              "  Text(-1.838799742217584, -1.2966555086145848, 'COMPLETED')],\n",
              " [Text(1.0215553786204203, 0.7203642192750066, '19.6%'),\n",
              "  Text(-1.021555412343102, -0.720364171452547, '80.4%')])"
            ]
          },
          "metadata": {},
          "execution_count": 66
        },
        {
          "output_type": "display_data",
          "data": {
            "text/plain": [
              "<Figure size 432x288 with 1 Axes>"
            ],
            "image/png": "[encoded data removed]"
          },
          "metadata": {}
        }
      ]
    },
    {
      "cell_type": "markdown",
      "source": [
        "Cancelled rate reach 19,6%, that little high"
      ],
      "metadata": {
        "id": "d1OQA6EVMPwi"
      }
    },
    {
      "cell_type": "code",
      "source": [
        "method=df.groupby('payment_method')['order_id'].nunique().sort_values(ascending=False)\n",
        "method"
      ],
      "metadata": {
        "colab": {
          "base_uri": "https://localhost:8080/"
        },
        "id": "lbDhHHtDHugO",
        "outputId": "49d31689-113a-4208-c6c3-21b2afecdc1f"
      },
      "execution_count": 67,
      "outputs": [
        {
          "output_type": "execute_result",
          "data": {
            "text/plain": [
              "payment_method\n",
              "Cash on Delivery                    33075\n",
              "Airpay GIRO                          1789\n",
              "Cybersource                           978\n",
              "Airpay Wallet V2                      893\n",
              "VN Airpay Ibanking (Vietcombank)      196\n",
              "Cybersource (new)                     177\n",
              "Shopee Wallet                         175\n",
              "VN Airpay Ibanking (Techcombank)      101\n",
              "VN Airpay Ibanking (BIDV)              84\n",
              "VN Airpay Ibanking (VPbank)            72\n",
              "VN Airpay Ibanking (Vietinbank)        64\n",
              "VN Airpay Ibanking (Agribank)          62\n",
              "VN Airpay Ibanking (ACB)               41\n",
              "VN Airpay Ibanking (Sacombank)         24\n",
              "VN Airpay Ibanking (TPbank)            20\n",
              "VN Airpay Ibanking (DongAbank)         16\n",
              "VN Airpay Ibanking (MSbank)            11\n",
              "VN Airpay Ibanking (MB)                11\n",
              "VN Airpay Ibanking (NCB)                7\n",
              "VN Airpay Ibanking (Oceanbank)          6\n",
              "VN Airpay Ibanking (SHB)                5\n",
              "VN Airpay Ibanking (Eximbank)           5\n",
              "VN Airpay Ibanking (HDbank)             5\n",
              "VN Airpay Ibanking (OCB)                4\n",
              "VN Airpay Ibanking (VIB)                4\n",
              "VN Airpay Ibanking (SEAB)               3\n",
              "VN Airpay Ibanking (Indovina)           2\n",
              "VN Airpay Ibanking (SGB)                1\n",
              "VN Airpay Ibanking (PBVN)               1\n",
              "VN Airpay Ibanking (LPB)                1\n",
              "VN Airpay Ibanking (ABB)                1\n",
              "VN Airpay Ibanking (SCB)                1\n",
              "Name: order_id, dtype: int64"
            ]
          },
          "metadata": {},
          "execution_count": 67
        }
      ]
    },
    {
      "cell_type": "code",
      "source": [
        "top_order = df.groupby('order_id')['selling_price'].sum().sort_values(ascending=False).reset_index()\n",
        "top_order.head(10)"
      ],
      "metadata": {
        "colab": {
          "base_uri": "https://localhost:8080/",
          "height": 363
        },
        "id": "vbz8zC_1NZVC",
        "outputId": "a7396f89-24df-4f80-b86f-08c1b92a871c"
      },
      "execution_count": 71,
      "outputs": [
        {
          "output_type": "execute_result",
          "data": {
            "text/plain": [
              "     order_id  selling_price\n",
              "0  A000005002        2758000\n",
              "1  A000033367        2634000\n",
              "2  A000032891        2597000\n",
              "3  A000034874        2587000\n",
              "4  A000001550        2586000\n",
              "5  A000012356        2550000\n",
              "6  A000004536        2478000\n",
              "7  A000037287        2466000\n",
              "8  A000037436        2308000\n",
              "9  A000020207        2303000"
            ],
            "text/html": [
              "\n",
              "  <div id=\"df-0031b3c9-0d6d-44dc-ac59-3d30b4fb4079\">\n",
              "    <div class=\"colab-df-container\">\n",
              "      <div>\n",
              "<style scoped>\n",
              "    .dataframe tbody tr th:only-of-type {\n",
              "        vertical-align: middle;\n",
              "    }\n",
              "\n",
              "    .dataframe tbody tr th {\n",
              "        vertical-align: top;\n",
              "    }\n",
              "\n",
              "    .dataframe thead th {\n",
              "        text-align: right;\n",
              "    }\n",
              "</style>\n",
              "<table border=\"1\" class=\"dataframe\">\n",
              "  <thead>\n",
              "    <tr style=\"text-align: right;\">\n",
              "      <th></th>\n",
              "      <th>order_id</th>\n",
              "      <th>selling_price</th>\n",
              "    </tr>\n",
              "  </thead>\n",
              "  <tbody>\n",
              "    <tr>\n",
              "      <th>0</th>\n",
              "      <td>A000005002</td>\n",
              "      <td>2758000</td>\n",
              "    </tr>\n",
              "    <tr>\n",
              "      <th>1</th>\n",
              "      <td>A000033367</td>\n",
              "      <td>2634000</td>\n",
              "    </tr>\n",
              "    <tr>\n",
              "      <th>2</th>\n",
              "      <td>A000032891</td>\n",
              "      <td>2597000</td>\n",
              "    </tr>\n",
              "    <tr>\n",
              "      <th>3</th>\n",
              "      <td>A000034874</td>\n",
              "      <td>2587000</td>\n",
              "    </tr>\n",
              "    <tr>\n",
              "      <th>4</th>\n",
              "      <td>A000001550</td>\n",
              "      <td>2586000</td>\n",
              "    </tr>\n",
              "    <tr>\n",
              "      <th>5</th>\n",
              "      <td>A000012356</td>\n",
              "      <td>2550000</td>\n",
              "    </tr>\n",
              "    <tr>\n",
              "      <th>6</th>\n",
              "      <td>A000004536</td>\n",
              "      <td>2478000</td>\n",
              "    </tr>\n",
              "    <tr>\n",
              "      <th>7</th>\n",
              "      <td>A000037287</td>\n",
              "      <td>2466000</td>\n",
              "    </tr>\n",
              "    <tr>\n",
              "      <th>8</th>\n",
              "      <td>A000037436</td>\n",
              "      <td>2308000</td>\n",
              "    </tr>\n",
              "    <tr>\n",
              "      <th>9</th>\n",
              "      <td>A000020207</td>\n",
              "      <td>2303000</td>\n",
              "    </tr>\n",
              "  </tbody>\n",
              "</table>\n",
              "</div>\n",
              "      <button class=\"colab-df-convert\" onclick=\"convertToInteractive('df-0031b3c9-0d6d-44dc-ac59-3d30b4fb4079')\"\n",
              "              title=\"Convert this dataframe to an interactive table.\"\n",
              "              style=\"display:none;\">\n",
              "        \n",
              "  <svg xmlns=\"http://www.w3.org/2000/svg\" height=\"24px\"viewBox=\"0 0 24 24\"\n",
              "       width=\"24px\">\n",
              "    <path d=\"M0 0h24v24H0V0z\" fill=\"none\"/>\n",
              "    <path d=\"M18.56 5.44l.94 2.06.94-2.06 2.06-.94-2.06-.94-.94-2.06-.94 2.06-2.06.94zm-11 1L8.5 8.5l.94-2.06 2.06-.94-2.06-.94L8.5 2.5l-.94 2.06-2.06.94zm10 10l.94 2.06.94-2.06 2.06-.94-2.06-.94-.94-2.06-.94 2.06-2.06.94z\"/><path d=\"M17.41 7.96l-1.37-1.37c-.4-.4-.92-.59-1.43-.59-.52 0-1.04.2-1.43.59L10.3 9.45l-7.72 7.72c-.78.78-.78 2.05 0 2.83L4 21.41c.39.39.9.59 1.41.59.51 0 1.02-.2 1.41-.59l7.78-7.78 2.81-2.81c.8-.78.8-2.07 0-2.86zM5.41 20L4 18.59l7.72-7.72 1.47 1.35L5.41 20z\"/>\n",
              "  </svg>\n",
              "      </button>\n",
              "      \n",
              "  <style>\n",
              "    .colab-df-container {\n",
              "      display:flex;\n",
              "      flex-wrap:wrap;\n",
              "      gap: 12px;\n",
              "    }\n",
              "\n",
              "    .colab-df-convert {\n",
              "      background-color: #E8F0FE;\n",
              "      border: none;\n",
              "      border-radius: 50%;\n",
              "      cursor: pointer;\n",
              "      display: none;\n",
              "      fill: #1967D2;\n",
              "      height: 32px;\n",
              "      padding: 0 0 0 0;\n",
              "      width: 32px;\n",
              "    }\n",
              "\n",
              "    .colab-df-convert:hover {\n",
              "      background-color: #E2EBFA;\n",
              "      box-shadow: 0px 1px 2px rgba(60, 64, 67, 0.3), 0px 1px 3px 1px rgba(60, 64, 67, 0.15);\n",
              "      fill: #174EA6;\n",
              "    }\n",
              "\n",
              "    [theme=dark] .colab-df-convert {\n",
              "      background-color: #3B4455;\n",
              "      fill: #D2E3FC;\n",
              "    }\n",
              "\n",
              "    [theme=dark] .colab-df-convert:hover {\n",
              "      background-color: #434B5C;\n",
              "      box-shadow: 0px 1px 3px 1px rgba(0, 0, 0, 0.15);\n",
              "      filter: drop-shadow(0px 1px 2px rgba(0, 0, 0, 0.3));\n",
              "      fill: #FFFFFF;\n",
              "    }\n",
              "  </style>\n",
              "\n",
              "      <script>\n",
              "        const buttonEl =\n",
              "          document.querySelector('#df-0031b3c9-0d6d-44dc-ac59-3d30b4fb4079 button.colab-df-convert');\n",
              "        buttonEl.style.display =\n",
              "          google.colab.kernel.accessAllowed ? 'block' : 'none';\n",
              "\n",
              "        async function convertToInteractive(key) {\n",
              "          const element = document.querySelector('#df-0031b3c9-0d6d-44dc-ac59-3d30b4fb4079');\n",
              "          const dataTable =\n",
              "            await google.colab.kernel.invokeFunction('convertToInteractive',\n",
              "                                                     [key], {});\n",
              "          if (!dataTable) return;\n",
              "\n",
              "          const docLinkHtml = 'Like what you see? Visit the ' +\n",
              "            '<a target=\"_blank\" href=https://colab.research.google.com/notebooks/data_table.ipynb>data table notebook</a>'\n",
              "            + ' to learn more about interactive tables.';\n",
              "          element.innerHTML = '';\n",
              "          dataTable['output_type'] = 'display_data';\n",
              "          await google.colab.output.renderOutput(dataTable, element);\n",
              "          const docLink = document.createElement('div');\n",
              "          docLink.innerHTML = docLinkHtml;\n",
              "          element.appendChild(docLink);\n",
              "        }\n",
              "      </script>\n",
              "    </div>\n",
              "  </div>\n",
              "  "
            ]
          },
          "metadata": {},
          "execution_count": 71
        }
      ]
    },
    {
      "cell_type": "code",
      "source": [],
      "metadata": {
        "id": "2GxTOFCJOEPV"
      },
      "execution_count": null,
      "outputs": []
    }
  ]
}